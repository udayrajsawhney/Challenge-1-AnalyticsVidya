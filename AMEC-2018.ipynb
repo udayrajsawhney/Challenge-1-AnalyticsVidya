{
 "cells": [
  {
   "cell_type": "code",
   "execution_count": 57,
   "metadata": {},
   "outputs": [],
   "source": [
    "TRAIN_PATH = 'train_amex/train.csv'"
   ]
  },
  {
   "cell_type": "code",
   "execution_count": 86,
   "metadata": {},
   "outputs": [
    {
     "name": "stdout",
     "output_type": "stream",
     "text": [
      "Index(['session_id', 'DateTime', 'user_id', 'product', 'campaign_id',\n",
      "       'webpage_id', 'product_category_1', 'product_category_2',\n",
      "       'user_group_id', 'gender', 'age_level', 'user_depth',\n",
      "       'city_development_index', 'var_1', 'is_click'],\n",
      "      dtype='object')\n"
     ]
    }
   ],
   "source": [
    "import pandas as pd\n",
    "import numpy as np\n",
    "import tensorflow as tf\n",
    "dataset =  pd.read_csv(TRAIN_PATH)\n",
    "print(dataset.columns)"
   ]
  },
  {
   "cell_type": "code",
   "execution_count": 87,
   "metadata": {},
   "outputs": [],
   "source": [
    "val_frame = dataset[['DateTime','product','webpage_id','product_category_1','campaign_id','user_group_id','gender','age_level','user_depth','city_development_index','var_1','is_click']]"
   ]
  },
  {
   "cell_type": "code",
   "execution_count": 88,
   "metadata": {},
   "outputs": [
    {
     "name": "stdout",
     "output_type": "stream",
     "text": [
      "<bound method NDFrame.head of                 DateTime product  webpage_id  product_category_1  campaign_id  \\\n",
      "0       2017-07-02 00:00       C       13787                   4       359520   \n",
      "1       2017-07-02 00:00       C       11085                   5       105960   \n",
      "2       2017-07-02 00:00       C       13787                   4       359520   \n",
      "3       2017-07-02 00:00       I       13787                   3       359520   \n",
      "4       2017-07-02 00:01       C       60305                   3       405490   \n",
      "5       2017-07-02 00:01       I       13787                   2       359520   \n",
      "6       2017-07-02 00:01       F       60305                   3       405490   \n",
      "7       2017-07-02 00:01       C       13787                   3       360936   \n",
      "8       2017-07-02 00:02       H       11085                   5       105960   \n",
      "9       2017-07-02 00:02       B       13787                   2       360936   \n",
      "10      2017-07-02 00:02       C       60305                   3       405490   \n",
      "11      2017-07-02 00:02       H       53587                   1       404347   \n",
      "12      2017-07-02 00:02       H       13787                   3       359520   \n",
      "13      2017-07-02 00:02       C       13787                   5       360936   \n",
      "14      2017-07-02 00:03       C       13787                   3       360936   \n",
      "15      2017-07-02 00:03       C       13787                   4       359520   \n",
      "16      2017-07-02 00:03       H       60305                   3       405490   \n",
      "17      2017-07-02 00:03       I       53587                   1       404347   \n",
      "18      2017-07-02 00:03       C       13787                   3       360936   \n",
      "19      2017-07-02 00:03       H       13787                   3       359520   \n",
      "20      2017-07-02 00:03       D       13787                   4       359520   \n",
      "21      2017-07-02 00:03       I       53587                   1       404347   \n",
      "22      2017-07-02 00:03       H       13787                   3       359520   \n",
      "23      2017-07-02 00:03       C       13787                   4       359520   \n",
      "24      2017-07-02 00:04       I       13787                   3       359520   \n",
      "25      2017-07-02 00:04       C       13787                   4       359520   \n",
      "26      2017-07-02 00:04       C       13787                   5       360936   \n",
      "27      2017-07-02 00:04       H       60305                   3       405490   \n",
      "28      2017-07-02 00:04       C       13787                   4       359520   \n",
      "29      2017-07-02 00:04       G        6970                   4        98970   \n",
      "...                  ...     ...         ...                 ...          ...   \n",
      "463261  2017-07-07 23:56       D       53587                   1       404347   \n",
      "463262  2017-07-07 23:56       I       28529                   4       118601   \n",
      "463263  2017-07-07 23:57       H       28529                   5       118601   \n",
      "463264  2017-07-07 23:57       H       28529                   5       118601   \n",
      "463265  2017-07-07 23:57       I       28529                   4       118601   \n",
      "463266  2017-07-07 23:57       H       28529                   5       118601   \n",
      "463267  2017-07-07 23:57       H       28529                   5       118601   \n",
      "463268  2017-07-07 23:57       H       28529                   5       118601   \n",
      "463269  2017-07-07 23:57       J       53587                   1       404347   \n",
      "463270  2017-07-07 23:58       G       28529                   5       118601   \n",
      "463271  2017-07-07 23:58       I       28529                   4       118601   \n",
      "463272  2017-07-07 23:58       H       28529                   5       118601   \n",
      "463273  2017-07-07 23:58       H       28529                   5       118601   \n",
      "463274  2017-07-07 23:58       H       28529                   5       118601   \n",
      "463275  2017-07-07 23:58       C       60305                   3       405490   \n",
      "463276  2017-07-07 23:59       I       28529                   4       118601   \n",
      "463277  2017-07-07 23:59       A       60305                   2       405490   \n",
      "463278  2017-07-07 23:59       G       28529                   5       118601   \n",
      "463279  2017-07-07 23:59       H       28529                   5       118601   \n",
      "463280  2017-07-07 23:59       G       28529                   5       118601   \n",
      "463281  2017-07-07 23:59       I       28529                   4       118601   \n",
      "463282  2017-07-07 23:59       C       13787                   5       360936   \n",
      "463283  2017-07-07 23:59       H       13787                   4       359520   \n",
      "463284  2017-07-07 23:59       C       13787                   5       360936   \n",
      "463285  2017-07-07 23:59       H       28529                   5       118601   \n",
      "463286  2017-07-07 23:59       H       28529                   5       118601   \n",
      "463287  2017-07-07 23:59       I       28529                   4       118601   \n",
      "463288  2017-07-07 23:59       D       28529                   4       118601   \n",
      "463289  2017-07-07 23:59       D       28529                   5       118601   \n",
      "463290  2017-07-07 23:59       C       60305                   3       405490   \n",
      "\n",
      "        user_group_id  gender  age_level  user_depth  city_development_index  \\\n",
      "0                10.0  Female        4.0         3.0                     3.0   \n",
      "1                 8.0  Female        2.0         2.0                     NaN   \n",
      "2                 8.0  Female        2.0         2.0                     NaN   \n",
      "3                 3.0    Male        3.0         3.0                     2.0   \n",
      "4                 2.0    Male        2.0         3.0                     2.0   \n",
      "5                 1.0    Male        1.0         3.0                     NaN   \n",
      "6                 9.0  Female        3.0         3.0                     4.0   \n",
      "7                 4.0    Male        4.0         3.0                     4.0   \n",
      "8                 NaN     NaN        NaN         NaN                     NaN   \n",
      "9                 4.0    Male        4.0         3.0                     4.0   \n",
      "10                2.0    Male        2.0         3.0                     4.0   \n",
      "11                2.0    Male        2.0         3.0                     4.0   \n",
      "12                3.0    Male        3.0         3.0                     2.0   \n",
      "13                8.0  Female        2.0         2.0                     NaN   \n",
      "14                2.0    Male        2.0         3.0                     4.0   \n",
      "15                2.0    Male        2.0         3.0                     4.0   \n",
      "16                2.0    Male        2.0         3.0                     4.0   \n",
      "17                9.0  Female        3.0         3.0                     3.0   \n",
      "18                9.0  Female        3.0         3.0                     3.0   \n",
      "19                2.0    Male        2.0         3.0                     4.0   \n",
      "20                2.0    Male        2.0         3.0                     4.0   \n",
      "21                2.0    Male        2.0         3.0                     4.0   \n",
      "22               11.0  Female        5.0         3.0                     2.0   \n",
      "23                1.0    Male        1.0         3.0                     3.0   \n",
      "24                1.0    Male        1.0         3.0                     NaN   \n",
      "25                9.0  Female        3.0         3.0                     3.0   \n",
      "26                9.0  Female        3.0         3.0                     3.0   \n",
      "27                2.0    Male        2.0         3.0                     4.0   \n",
      "28                3.0    Male        3.0         2.0                     NaN   \n",
      "29                2.0    Male        2.0         1.0                     NaN   \n",
      "...               ...     ...        ...         ...                     ...   \n",
      "463261            2.0    Male        2.0         3.0                     4.0   \n",
      "463262            3.0    Male        3.0         3.0                     2.0   \n",
      "463263           10.0  Female        4.0         3.0                     1.0   \n",
      "463264            3.0    Male        3.0         3.0                     2.0   \n",
      "463265            3.0    Male        3.0         3.0                     4.0   \n",
      "463266            3.0    Male        3.0         3.0                     4.0   \n",
      "463267            2.0    Male        2.0         3.0                     3.0   \n",
      "463268            2.0    Male        2.0         3.0                     3.0   \n",
      "463269            3.0    Male        3.0         3.0                     2.0   \n",
      "463270            3.0    Male        3.0         3.0                     3.0   \n",
      "463271            3.0    Male        3.0         3.0                     3.0   \n",
      "463272           10.0  Female        4.0         3.0                     3.0   \n",
      "463273            1.0    Male        1.0         3.0                     3.0   \n",
      "463274            8.0  Female        2.0         1.0                     NaN   \n",
      "463275            2.0    Male        2.0         3.0                     4.0   \n",
      "463276            2.0    Male        2.0         3.0                     2.0   \n",
      "463277            2.0    Male        2.0         3.0                     2.0   \n",
      "463278            2.0    Male        2.0         3.0                     2.0   \n",
      "463279            3.0    Male        3.0         3.0                     2.0   \n",
      "463280            3.0    Male        3.0         3.0                     4.0   \n",
      "463281            3.0    Male        3.0         3.0                     3.0   \n",
      "463282            3.0    Male        3.0         3.0                     2.0   \n",
      "463283            3.0    Male        3.0         3.0                     NaN   \n",
      "463284            9.0  Female        3.0         3.0                     NaN   \n",
      "463285            9.0  Female        3.0         3.0                     NaN   \n",
      "463286            4.0    Male        4.0         3.0                     2.0   \n",
      "463287           10.0  Female        4.0         3.0                     2.0   \n",
      "463288            2.0    Male        2.0         3.0                     NaN   \n",
      "463289            2.0    Male        2.0         3.0                     NaN   \n",
      "463290            5.0    Male        5.0         3.0                     4.0   \n",
      "\n",
      "        var_1  is_click  \n",
      "0           0         0  \n",
      "1           0         0  \n",
      "2           0         0  \n",
      "3           1         0  \n",
      "4           1         0  \n",
      "5           0         0  \n",
      "6           0         0  \n",
      "7           0         0  \n",
      "8           0         0  \n",
      "9           0         0  \n",
      "10          1         0  \n",
      "11          1         0  \n",
      "12          1         0  \n",
      "13          0         0  \n",
      "14          1         0  \n",
      "15          1         0  \n",
      "16          1         0  \n",
      "17          1         0  \n",
      "18          0         0  \n",
      "19          1         0  \n",
      "20          1         0  \n",
      "21          1         0  \n",
      "22          0         0  \n",
      "23          0         0  \n",
      "24          0         0  \n",
      "25          0         0  \n",
      "26          0         0  \n",
      "27          1         0  \n",
      "28          1         0  \n",
      "29          0         0  \n",
      "...       ...       ...  \n",
      "463261      0         0  \n",
      "463262      1         0  \n",
      "463263      0         0  \n",
      "463264      0         0  \n",
      "463265      0         0  \n",
      "463266      0         0  \n",
      "463267      0         0  \n",
      "463268      0         0  \n",
      "463269      1         0  \n",
      "463270      1         0  \n",
      "463271      1         0  \n",
      "463272      0         0  \n",
      "463273      1         0  \n",
      "463274      0         0  \n",
      "463275      0         0  \n",
      "463276      1         0  \n",
      "463277      1         0  \n",
      "463278      1         0  \n",
      "463279      0         0  \n",
      "463280      0         0  \n",
      "463281      0         0  \n",
      "463282      1         0  \n",
      "463283      0         0  \n",
      "463284      0         0  \n",
      "463285      0         0  \n",
      "463286      0         0  \n",
      "463287      1         0  \n",
      "463288      0         0  \n",
      "463289      0         0  \n",
      "463290      0         0  \n",
      "\n",
      "[463291 rows x 12 columns]>\n",
      "['C' 'I' 'F' 'H' 'B' 'D' 'G' 'E' 'J' 'A']\n"
     ]
    }
   ],
   "source": [
    "print(val_frame.head)\n",
    "\n",
    "print(val_frame['product'].unique())\n",
    "val_temp = val_frame"
   ]
  },
  {
   "cell_type": "code",
   "execution_count": 89,
   "metadata": {},
   "outputs": [
    {
     "name": "stderr",
     "output_type": "stream",
     "text": [
      "/anaconda3/envs/tensorflow/lib/python3.6/site-packages/ipykernel/__main__.py:1: SettingWithCopyWarning: \n",
      "A value is trying to be set on a copy of a slice from a DataFrame.\n",
      "Try using .loc[row_indexer,col_indexer] = value instead\n",
      "\n",
      "See the caveats in the documentation: http://pandas.pydata.org/pandas-docs/stable/indexing.html#indexing-view-versus-copy\n",
      "  if __name__ == '__main__':\n"
     ]
    }
   ],
   "source": [
    "val_temp['DateTime'] = val_temp['DateTime'].apply(lambda x: (x[11:13]))\n"
   ]
  },
  {
   "cell_type": "code",
   "execution_count": null,
   "metadata": {},
   "outputs": [],
   "source": []
  },
  {
   "cell_type": "code",
   "execution_count": 90,
   "metadata": {},
   "outputs": [
    {
     "name": "stderr",
     "output_type": "stream",
     "text": [
      "/anaconda3/envs/tensorflow/lib/python3.6/site-packages/ipykernel/__main__.py:1: SettingWithCopyWarning: \n",
      "A value is trying to be set on a copy of a slice from a DataFrame.\n",
      "Try using .loc[row_indexer,col_indexer] = value instead\n",
      "\n",
      "See the caveats in the documentation: http://pandas.pydata.org/pandas-docs/stable/indexing.html#indexing-view-versus-copy\n",
      "  if __name__ == '__main__':\n"
     ]
    }
   ],
   "source": [
    "val_temp['DateTime'] = pd.to_numeric(val_temp['DateTime'])"
   ]
  },
  {
   "cell_type": "code",
   "execution_count": 91,
   "metadata": {},
   "outputs": [],
   "source": [
    "X = val_temp.copy()"
   ]
  },
  {
   "cell_type": "code",
   "execution_count": 92,
   "metadata": {},
   "outputs": [
    {
     "data": {
      "text/html": [
       "<div>\n",
       "<style scoped>\n",
       "    .dataframe tbody tr th:only-of-type {\n",
       "        vertical-align: middle;\n",
       "    }\n",
       "\n",
       "    .dataframe tbody tr th {\n",
       "        vertical-align: top;\n",
       "    }\n",
       "\n",
       "    .dataframe thead th {\n",
       "        text-align: right;\n",
       "    }\n",
       "</style>\n",
       "<table border=\"1\" class=\"dataframe\">\n",
       "  <thead>\n",
       "    <tr style=\"text-align: right;\">\n",
       "      <th></th>\n",
       "      <th>DateTime</th>\n",
       "      <th>product</th>\n",
       "      <th>webpage_id</th>\n",
       "      <th>product_category_1</th>\n",
       "      <th>campaign_id</th>\n",
       "      <th>user_group_id</th>\n",
       "      <th>gender</th>\n",
       "      <th>age_level</th>\n",
       "      <th>user_depth</th>\n",
       "      <th>city_development_index</th>\n",
       "      <th>var_1</th>\n",
       "      <th>is_click</th>\n",
       "    </tr>\n",
       "  </thead>\n",
       "  <tbody>\n",
       "    <tr>\n",
       "      <th>0</th>\n",
       "      <td>0</td>\n",
       "      <td>C</td>\n",
       "      <td>13787</td>\n",
       "      <td>4</td>\n",
       "      <td>359520</td>\n",
       "      <td>10.0</td>\n",
       "      <td>Female</td>\n",
       "      <td>4.0</td>\n",
       "      <td>3.0</td>\n",
       "      <td>3.0</td>\n",
       "      <td>0</td>\n",
       "      <td>0</td>\n",
       "    </tr>\n",
       "    <tr>\n",
       "      <th>1</th>\n",
       "      <td>0</td>\n",
       "      <td>C</td>\n",
       "      <td>11085</td>\n",
       "      <td>5</td>\n",
       "      <td>105960</td>\n",
       "      <td>8.0</td>\n",
       "      <td>Female</td>\n",
       "      <td>2.0</td>\n",
       "      <td>2.0</td>\n",
       "      <td>NaN</td>\n",
       "      <td>0</td>\n",
       "      <td>0</td>\n",
       "    </tr>\n",
       "    <tr>\n",
       "      <th>2</th>\n",
       "      <td>0</td>\n",
       "      <td>C</td>\n",
       "      <td>13787</td>\n",
       "      <td>4</td>\n",
       "      <td>359520</td>\n",
       "      <td>8.0</td>\n",
       "      <td>Female</td>\n",
       "      <td>2.0</td>\n",
       "      <td>2.0</td>\n",
       "      <td>NaN</td>\n",
       "      <td>0</td>\n",
       "      <td>0</td>\n",
       "    </tr>\n",
       "    <tr>\n",
       "      <th>3</th>\n",
       "      <td>0</td>\n",
       "      <td>I</td>\n",
       "      <td>13787</td>\n",
       "      <td>3</td>\n",
       "      <td>359520</td>\n",
       "      <td>3.0</td>\n",
       "      <td>Male</td>\n",
       "      <td>3.0</td>\n",
       "      <td>3.0</td>\n",
       "      <td>2.0</td>\n",
       "      <td>1</td>\n",
       "      <td>0</td>\n",
       "    </tr>\n",
       "    <tr>\n",
       "      <th>4</th>\n",
       "      <td>0</td>\n",
       "      <td>C</td>\n",
       "      <td>60305</td>\n",
       "      <td>3</td>\n",
       "      <td>405490</td>\n",
       "      <td>2.0</td>\n",
       "      <td>Male</td>\n",
       "      <td>2.0</td>\n",
       "      <td>3.0</td>\n",
       "      <td>2.0</td>\n",
       "      <td>1</td>\n",
       "      <td>0</td>\n",
       "    </tr>\n",
       "  </tbody>\n",
       "</table>\n",
       "</div>"
      ],
      "text/plain": [
       "   DateTime product  webpage_id  product_category_1  campaign_id  \\\n",
       "0         0       C       13787                   4       359520   \n",
       "1         0       C       11085                   5       105960   \n",
       "2         0       C       13787                   4       359520   \n",
       "3         0       I       13787                   3       359520   \n",
       "4         0       C       60305                   3       405490   \n",
       "\n",
       "   user_group_id  gender  age_level  user_depth  city_development_index  \\\n",
       "0           10.0  Female        4.0         3.0                     3.0   \n",
       "1            8.0  Female        2.0         2.0                     NaN   \n",
       "2            8.0  Female        2.0         2.0                     NaN   \n",
       "3            3.0    Male        3.0         3.0                     2.0   \n",
       "4            2.0    Male        2.0         3.0                     2.0   \n",
       "\n",
       "   var_1  is_click  \n",
       "0      0         0  \n",
       "1      0         0  \n",
       "2      0         0  \n",
       "3      1         0  \n",
       "4      1         0  "
      ]
     },
     "execution_count": 92,
     "metadata": {},
     "output_type": "execute_result"
    }
   ],
   "source": [
    "X.head()"
   ]
  },
  {
   "cell_type": "code",
   "execution_count": 93,
   "metadata": {},
   "outputs": [
    {
     "name": "stdout",
     "output_type": "stream",
     "text": [
      "18243\n",
      "0.27004120751921473\n",
      "0.2707222878299448\n"
     ]
    },
    {
     "data": {
      "text/plain": [
       "338162"
      ]
     },
     "execution_count": 93,
     "metadata": {},
     "output_type": "execute_result"
    }
   ],
   "source": [
    "#Dealing with nan values.\n",
    "print(X['age_level'].isna().sum())\n",
    "\n",
    "positive_samples = val_temp[val_temp.is_click == 1]\n",
    "negative_samples = val_temp[val_temp.is_click == 0]\n",
    "\n",
    "print(negative_samples['city_development_index'].isna().sum()/len(negative_samples))\n",
    "print(positive_samples['city_development_index'].isna().sum()/len(positive_samples))\n",
    "# X['user_group_id'].unique()\n",
    "\n",
    "\n",
    "X = X.dropna(subset=['user_group_id','user_depth','city_development_index','gender','age_level'])\n",
    "len(X)"
   ]
  },
  {
   "cell_type": "code",
   "execution_count": 94,
   "metadata": {},
   "outputs": [
    {
     "data": {
      "text/html": [
       "<div>\n",
       "<style scoped>\n",
       "    .dataframe tbody tr th:only-of-type {\n",
       "        vertical-align: middle;\n",
       "    }\n",
       "\n",
       "    .dataframe tbody tr th {\n",
       "        vertical-align: top;\n",
       "    }\n",
       "\n",
       "    .dataframe thead th {\n",
       "        text-align: right;\n",
       "    }\n",
       "</style>\n",
       "<table border=\"1\" class=\"dataframe\">\n",
       "  <thead>\n",
       "    <tr style=\"text-align: right;\">\n",
       "      <th></th>\n",
       "      <th>DateTime</th>\n",
       "      <th>product</th>\n",
       "      <th>webpage_id</th>\n",
       "      <th>product_category_1</th>\n",
       "      <th>campaign_id</th>\n",
       "      <th>user_group_id</th>\n",
       "      <th>gender</th>\n",
       "      <th>age_level</th>\n",
       "      <th>user_depth</th>\n",
       "      <th>city_development_index</th>\n",
       "      <th>var_1</th>\n",
       "      <th>is_click</th>\n",
       "    </tr>\n",
       "  </thead>\n",
       "  <tbody>\n",
       "    <tr>\n",
       "      <th>0</th>\n",
       "      <td>0</td>\n",
       "      <td>C</td>\n",
       "      <td>13787</td>\n",
       "      <td>4</td>\n",
       "      <td>359520</td>\n",
       "      <td>10.0</td>\n",
       "      <td>Female</td>\n",
       "      <td>4.0</td>\n",
       "      <td>3.0</td>\n",
       "      <td>3.0</td>\n",
       "      <td>0</td>\n",
       "      <td>0</td>\n",
       "    </tr>\n",
       "    <tr>\n",
       "      <th>3</th>\n",
       "      <td>0</td>\n",
       "      <td>I</td>\n",
       "      <td>13787</td>\n",
       "      <td>3</td>\n",
       "      <td>359520</td>\n",
       "      <td>3.0</td>\n",
       "      <td>Male</td>\n",
       "      <td>3.0</td>\n",
       "      <td>3.0</td>\n",
       "      <td>2.0</td>\n",
       "      <td>1</td>\n",
       "      <td>0</td>\n",
       "    </tr>\n",
       "    <tr>\n",
       "      <th>4</th>\n",
       "      <td>0</td>\n",
       "      <td>C</td>\n",
       "      <td>60305</td>\n",
       "      <td>3</td>\n",
       "      <td>405490</td>\n",
       "      <td>2.0</td>\n",
       "      <td>Male</td>\n",
       "      <td>2.0</td>\n",
       "      <td>3.0</td>\n",
       "      <td>2.0</td>\n",
       "      <td>1</td>\n",
       "      <td>0</td>\n",
       "    </tr>\n",
       "    <tr>\n",
       "      <th>6</th>\n",
       "      <td>0</td>\n",
       "      <td>F</td>\n",
       "      <td>60305</td>\n",
       "      <td>3</td>\n",
       "      <td>405490</td>\n",
       "      <td>9.0</td>\n",
       "      <td>Female</td>\n",
       "      <td>3.0</td>\n",
       "      <td>3.0</td>\n",
       "      <td>4.0</td>\n",
       "      <td>0</td>\n",
       "      <td>0</td>\n",
       "    </tr>\n",
       "    <tr>\n",
       "      <th>7</th>\n",
       "      <td>0</td>\n",
       "      <td>C</td>\n",
       "      <td>13787</td>\n",
       "      <td>3</td>\n",
       "      <td>360936</td>\n",
       "      <td>4.0</td>\n",
       "      <td>Male</td>\n",
       "      <td>4.0</td>\n",
       "      <td>3.0</td>\n",
       "      <td>4.0</td>\n",
       "      <td>0</td>\n",
       "      <td>0</td>\n",
       "    </tr>\n",
       "  </tbody>\n",
       "</table>\n",
       "</div>"
      ],
      "text/plain": [
       "   DateTime product webpage_id product_category_1 campaign_id user_group_id  \\\n",
       "0         0       C      13787                  4      359520          10.0   \n",
       "3         0       I      13787                  3      359520           3.0   \n",
       "4         0       C      60305                  3      405490           2.0   \n",
       "6         0       F      60305                  3      405490           9.0   \n",
       "7         0       C      13787                  3      360936           4.0   \n",
       "\n",
       "   gender  age_level  user_depth  city_development_index var_1  is_click  \n",
       "0  Female        4.0         3.0                     3.0     0         0  \n",
       "3    Male        3.0         3.0                     2.0     1         0  \n",
       "4    Male        2.0         3.0                     2.0     1         0  \n",
       "6  Female        3.0         3.0                     4.0     0         0  \n",
       "7    Male        4.0         3.0                     4.0     0         0  "
      ]
     },
     "execution_count": 94,
     "metadata": {},
     "output_type": "execute_result"
    }
   ],
   "source": [
    "# X.age_level = val_temp.age_level.apply(str)\n",
    "X['age_level'] = pd.to_numeric(X['age_level'])\n",
    "X['user_depth'] = pd.to_numeric(X['user_depth'])\n",
    "X['city_development_index'] = pd.to_numeric(X['city_development_index'])\n",
    "X.product_category_1 = val_temp.product_category_1.apply(str)\n",
    "X.user_group_id = val_temp.user_group_id.apply(str)\n",
    "X.webpage_id = val_temp.webpage_id.apply(str)\n",
    "X.var_1 = val_temp.var_1.apply(str)\n",
    "X.campaign_id = val_temp.campaign_id.apply(str)\n",
    "X.head()"
   ]
  },
  {
   "cell_type": "code",
   "execution_count": 671,
   "metadata": {},
   "outputs": [
    {
     "data": {
      "text/plain": [
       "array([2, 6, 3, 5, 0, 9, 8, 7, 4, 1])"
      ]
     },
     "execution_count": 671,
     "metadata": {},
     "output_type": "execute_result"
    }
   ],
   "source": [
    "X['campaign_id'].unique()"
   ]
  },
  {
   "cell_type": "code",
   "execution_count": 96,
   "metadata": {},
   "outputs": [],
   "source": [
    "class MultiColumnLabelEncoder:\n",
    "    def __init__(self,columns = None):\n",
    "        self.columns = columns # array of column names to encode\n",
    "\n",
    "    def fit(self,X,y=None):\n",
    "        return self # not relevant here\n",
    "\n",
    "    def transform(self,X):\n",
    "        '''\n",
    "        Transforms columns of X specified in self.columns using\n",
    "        LabelEncoder(). If no columns specified, transforms all\n",
    "        columns in X.\n",
    "        '''\n",
    "        output = X.copy()\n",
    "        if self.columns is not None:\n",
    "            for col in self.columns:\n",
    "                output[col] = LabelEncoder().fit_transform(output[col])\n",
    "        else:\n",
    "            for colname,col in output.iteritems():\n",
    "                output[colname] = LabelEncoder().fit_transform(col)\n",
    "        return output\n",
    "\n",
    "    def fit_transform(self,X,y=None):\n",
    "        return self.fit(X,y).transform(X)"
   ]
  },
  {
   "cell_type": "code",
   "execution_count": 97,
   "metadata": {},
   "outputs": [
    {
     "data": {
      "text/html": [
       "<div>\n",
       "<style scoped>\n",
       "    .dataframe tbody tr th:only-of-type {\n",
       "        vertical-align: middle;\n",
       "    }\n",
       "\n",
       "    .dataframe tbody tr th {\n",
       "        vertical-align: top;\n",
       "    }\n",
       "\n",
       "    .dataframe thead th {\n",
       "        text-align: right;\n",
       "    }\n",
       "</style>\n",
       "<table border=\"1\" class=\"dataframe\">\n",
       "  <thead>\n",
       "    <tr style=\"text-align: right;\">\n",
       "      <th></th>\n",
       "      <th>DateTime</th>\n",
       "      <th>product</th>\n",
       "      <th>webpage_id</th>\n",
       "      <th>product_category_1</th>\n",
       "      <th>campaign_id</th>\n",
       "      <th>user_group_id</th>\n",
       "      <th>gender</th>\n",
       "      <th>age_level</th>\n",
       "      <th>user_depth</th>\n",
       "      <th>city_development_index</th>\n",
       "      <th>var_1</th>\n",
       "      <th>is_click</th>\n",
       "    </tr>\n",
       "  </thead>\n",
       "  <tbody>\n",
       "    <tr>\n",
       "      <th>0</th>\n",
       "      <td>0</td>\n",
       "      <td>2</td>\n",
       "      <td>1</td>\n",
       "      <td>3</td>\n",
       "      <td>2</td>\n",
       "      <td>2</td>\n",
       "      <td>0</td>\n",
       "      <td>4.0</td>\n",
       "      <td>3.0</td>\n",
       "      <td>3.0</td>\n",
       "      <td>0</td>\n",
       "      <td>0</td>\n",
       "    </tr>\n",
       "    <tr>\n",
       "      <th>3</th>\n",
       "      <td>0</td>\n",
       "      <td>8</td>\n",
       "      <td>1</td>\n",
       "      <td>2</td>\n",
       "      <td>2</td>\n",
       "      <td>6</td>\n",
       "      <td>1</td>\n",
       "      <td>3.0</td>\n",
       "      <td>3.0</td>\n",
       "      <td>2.0</td>\n",
       "      <td>1</td>\n",
       "      <td>0</td>\n",
       "    </tr>\n",
       "    <tr>\n",
       "      <th>4</th>\n",
       "      <td>0</td>\n",
       "      <td>2</td>\n",
       "      <td>7</td>\n",
       "      <td>2</td>\n",
       "      <td>6</td>\n",
       "      <td>5</td>\n",
       "      <td>1</td>\n",
       "      <td>2.0</td>\n",
       "      <td>3.0</td>\n",
       "      <td>2.0</td>\n",
       "      <td>1</td>\n",
       "      <td>0</td>\n",
       "    </tr>\n",
       "    <tr>\n",
       "      <th>6</th>\n",
       "      <td>0</td>\n",
       "      <td>5</td>\n",
       "      <td>7</td>\n",
       "      <td>2</td>\n",
       "      <td>6</td>\n",
       "      <td>12</td>\n",
       "      <td>0</td>\n",
       "      <td>3.0</td>\n",
       "      <td>3.0</td>\n",
       "      <td>4.0</td>\n",
       "      <td>0</td>\n",
       "      <td>0</td>\n",
       "    </tr>\n",
       "    <tr>\n",
       "      <th>7</th>\n",
       "      <td>0</td>\n",
       "      <td>2</td>\n",
       "      <td>1</td>\n",
       "      <td>2</td>\n",
       "      <td>3</td>\n",
       "      <td>7</td>\n",
       "      <td>1</td>\n",
       "      <td>4.0</td>\n",
       "      <td>3.0</td>\n",
       "      <td>4.0</td>\n",
       "      <td>0</td>\n",
       "      <td>0</td>\n",
       "    </tr>\n",
       "  </tbody>\n",
       "</table>\n",
       "</div>"
      ],
      "text/plain": [
       "   DateTime  product  webpage_id  product_category_1  campaign_id  \\\n",
       "0         0        2           1                   3            2   \n",
       "3         0        8           1                   2            2   \n",
       "4         0        2           7                   2            6   \n",
       "6         0        5           7                   2            6   \n",
       "7         0        2           1                   2            3   \n",
       "\n",
       "   user_group_id  gender  age_level  user_depth  city_development_index var_1  \\\n",
       "0              2       0        4.0         3.0                     3.0     0   \n",
       "3              6       1        3.0         3.0                     2.0     1   \n",
       "4              5       1        2.0         3.0                     2.0     1   \n",
       "6             12       0        3.0         3.0                     4.0     0   \n",
       "7              7       1        4.0         3.0                     4.0     0   \n",
       "\n",
       "   is_click  \n",
       "0         0  \n",
       "3         0  \n",
       "4         0  \n",
       "6         0  \n",
       "7         0  "
      ]
     },
     "execution_count": 97,
     "metadata": {},
     "output_type": "execute_result"
    }
   ],
   "source": [
    "from sklearn.preprocessing import LabelEncoder, OneHotEncoder\n",
    "# labelencoder_X = LabelEncoder()\n",
    "# X[:,1] = labelencoder_X.fit_transform(X[:, 1])\n",
    "# X[:,2] = labelencoder_X.fit_transform(X[:, 2])\n",
    "# X[:,3] = labelencoder_X.fit_transform(X[:, 3])\n",
    "# X[:,4] = labelencoder_X.fit_transform(X[:, 4])\n",
    "# X[:,5] = labelencoder_X.fit_transform(X[:, 5])\n",
    "# X[:,6] = labelencoder_X.fit_transform(X[:, 6])\n",
    "# X[:,10] = labelencoder_X.fit_transform(X[:, 10])\n",
    "# onehotencoder = OneHotEncoder()\n",
    "\n",
    "X = MultiColumnLabelEncoder(columns = ['product']).fit_transform(X)\n",
    "X = MultiColumnLabelEncoder(columns = ['webpage_id']).fit_transform(X)\n",
    "X = MultiColumnLabelEncoder(columns = ['product_category_1']).fit_transform(X)\n",
    "X = MultiColumnLabelEncoder(columns = ['campaign_id']).fit_transform(X)\n",
    "X = MultiColumnLabelEncoder(columns = ['user_group_id']).fit_transform(X)\n",
    "X = MultiColumnLabelEncoder(columns = ['gender']).fit_transform(X)\n",
    "X = MultiColumnLabelEncoder(columns = ['webpage_id']).fit_transform(X)\n",
    "# Xtest = onehotencoder.fit_transform(Xtest).toarray()\n",
    "X.head()"
   ]
  },
  {
   "cell_type": "code",
   "execution_count": 691,
   "metadata": {},
   "outputs": [],
   "source": [
    "test = X.copy()\n"
   ]
  },
  {
   "cell_type": "code",
   "execution_count": 692,
   "metadata": {},
   "outputs": [
    {
     "name": "stderr",
     "output_type": "stream",
     "text": [
      "/anaconda3/envs/tensorflow/lib/python3.6/site-packages/sklearn/preprocessing/_encoders.py:363: FutureWarning: The handling of integer data will change in version 0.22. Currently, the categories are determined based on the range [0, max(values)], while in the future they will be determined based on the unique values.\n",
      "If you want the future behaviour and silence this warning, you can specify \"categories='auto'\".\n",
      "In case you used a LabelEncoder before this OneHotEncoder to convert the categories to integers, then you can now use the OneHotEncoder directly.\n",
      "  warnings.warn(msg, FutureWarning)\n",
      "/anaconda3/envs/tensorflow/lib/python3.6/site-packages/sklearn/preprocessing/_encoders.py:385: DeprecationWarning: The 'categorical_features' keyword is deprecated in version 0.20 and will be removed in 0.22. You can use the ColumnTransformer instead.\n",
      "  \"use the ColumnTransformer instead.\", DeprecationWarning)\n"
     ]
    }
   ],
   "source": [
    "\n",
    "ohe = OneHotEncoder(categorical_features=[1,2,3,4,5,6,10])\n",
    "\n",
    "test = ohe.fit_transform(test).toarray()\n"
   ]
  },
  {
   "cell_type": "code",
   "execution_count": 693,
   "metadata": {},
   "outputs": [],
   "source": [
    "test = np.delete(test,[0,10,19,24,34,47,49],axis=1)"
   ]
  },
  {
   "cell_type": "code",
   "execution_count": 694,
   "metadata": {},
   "outputs": [],
   "source": [
    "from sklearn.ensemble import ExtraTreesClassifier\n",
    "import matplotlib.pyplot as plt\n",
    "%matplotlib inline"
   ]
  },
  {
   "cell_type": "code",
   "execution_count": 695,
   "metadata": {},
   "outputs": [],
   "source": [
    "forest = ExtraTreesClassifier(n_estimators=250,\n",
    "                              random_state=0)"
   ]
  },
  {
   "cell_type": "code",
   "execution_count": 696,
   "metadata": {},
   "outputs": [],
   "source": [
    "ex = test[:,:-1]\n",
    "why = test[:,-1]"
   ]
  },
  {
   "cell_type": "code",
   "execution_count": 697,
   "metadata": {},
   "outputs": [
    {
     "data": {
      "text/plain": [
       "ExtraTreesClassifier(bootstrap=False, class_weight=None, criterion='gini',\n",
       "           max_depth=None, max_features='auto', max_leaf_nodes=None,\n",
       "           min_impurity_decrease=0.0, min_impurity_split=None,\n",
       "           min_samples_leaf=1, min_samples_split=2,\n",
       "           min_weight_fraction_leaf=0.0, n_estimators=250, n_jobs=None,\n",
       "           oob_score=False, random_state=0, verbose=0, warm_start=False)"
      ]
     },
     "execution_count": 697,
     "metadata": {},
     "output_type": "execute_result"
    }
   ],
   "source": [
    "# np.count_nonzero(why)\n",
    "forest.fit(ex,why)"
   ]
  },
  {
   "cell_type": "code",
   "execution_count": 698,
   "metadata": {},
   "outputs": [],
   "source": [
    "importances = forest.feature_importances_\n",
    "std = np.std([tree.feature_importances_ for tree in forest.estimators_],\n",
    "             axis=0)"
   ]
  },
  {
   "cell_type": "code",
   "execution_count": 699,
   "metadata": {},
   "outputs": [],
   "source": [
    "indices = np.argsort(importances)[::-1]"
   ]
  },
  {
   "cell_type": "code",
   "execution_count": 700,
   "metadata": {},
   "outputs": [
    {
     "name": "stdout",
     "output_type": "stream",
     "text": [
      "Feature ranking:\n",
      "1. feature 44 (0.684847)\n",
      "2. feature 47 (0.146991)\n",
      "3. feature 46 (0.028135)\n",
      "4. feature 43 (0.023096)\n",
      "5. feature 45 (0.009405)\n",
      "6. feature 6 (0.007071)\n",
      "7. feature 7 (0.005582)\n",
      "8. feature 1 (0.005116)\n",
      "9. feature 2 (0.004398)\n",
      "10. feature 18 (0.004323)\n",
      "11. feature 26 (0.004221)\n",
      "12. feature 35 (0.004007)\n",
      "13. feature 36 (0.003799)\n",
      "14. feature 15 (0.003797)\n",
      "15. feature 34 (0.003711)\n",
      "16. feature 17 (0.003609)\n",
      "17. feature 42 (0.003570)\n",
      "18. feature 0 (0.003438)\n",
      "19. feature 37 (0.003042)\n",
      "20. feature 9 (0.003032)\n",
      "21. feature 41 (0.002971)\n",
      "22. feature 30 (0.002798)\n",
      "23. feature 5 (0.002735)\n",
      "24. feature 19 (0.002709)\n",
      "25. feature 32 (0.002642)\n",
      "26. feature 23 (0.002456)\n",
      "27. feature 4 (0.002443)\n",
      "28. feature 31 (0.002421)\n",
      "29. feature 20 (0.002407)\n",
      "30. feature 3 (0.002354)\n",
      "31. feature 40 (0.002120)\n",
      "32. feature 38 (0.001743)\n",
      "33. feature 8 (0.001578)\n",
      "34. feature 33 (0.001499)\n",
      "35. feature 22 (0.001380)\n",
      "36. feature 12 (0.001283)\n",
      "37. feature 39 (0.001184)\n",
      "38. feature 27 (0.001151)\n",
      "39. feature 29 (0.001078)\n",
      "40. feature 21 (0.001051)\n",
      "41. feature 16 (0.000982)\n",
      "42. feature 11 (0.000801)\n",
      "43. feature 14 (0.000638)\n",
      "44. feature 25 (0.000617)\n",
      "45. feature 10 (0.000529)\n",
      "46. feature 28 (0.000479)\n",
      "47. feature 13 (0.000391)\n",
      "48. feature 24 (0.000373)\n"
     ]
    }
   ],
   "source": [
    "# Print the feature ranking\n",
    "print(\"Feature ranking:\")\n",
    "\n",
    "for f in range(ex.shape[1]):\n",
    "    print(\"%d. feature %d (%f)\" % (f + 1, indices[f], importances[indices[f]]))"
   ]
  },
  {
   "cell_type": "code",
   "execution_count": 701,
   "metadata": {},
   "outputs": [
    {
     "data": {
      "image/png": "[encoded data removed]",
      "text/plain": [
       "<Figure size 3600x3600 with 1 Axes>"
      ]
     },
     "metadata": {
      "needs_background": "light"
     },
     "output_type": "display_data"
    }
   ],
   "source": [
    "# Plot the feature importances of the forest\n",
    "plt.figure(figsize=(50,50))\n",
    "plt.title(\"Feature importances\")\n",
    "plt.bar(range(ex.shape[1]), importances[indices],\n",
    "       color=\"r\", yerr=std[indices], align=\"center\")\n",
    "plt.xticks(range(ex.shape[1]), indices)\n",
    "plt.xlim([-1, ex.shape[1]])\n",
    "plt.show()"
   ]
  },
  {
   "cell_type": "markdown",
   "metadata": {},
   "source": [
    "ex = ex[:,[44,47,46,43,45,6,7,1,2,18]]\n",
    "ex"
   ]
  },
  {
   "cell_type": "code",
   "execution_count": 702,
   "metadata": {},
   "outputs": [],
   "source": []
  },
  {
   "cell_type": "code",
   "execution_count": 726,
   "metadata": {},
   "outputs": [],
   "source": [
    "ex = test[:,:-1]\n",
    "why = test[:,-1]\n",
    "ex = ex[:,[44,47,46,43,45]]"
   ]
  },
  {
   "cell_type": "code",
   "execution_count": 727,
   "metadata": {},
   "outputs": [
    {
     "data": {
      "text/plain": [
       "array([1., 0., 1., ..., 0., 0., 1.])"
      ]
     },
     "execution_count": 727,
     "metadata": {},
     "output_type": "execute_result"
    }
   ],
   "source": [
    "test[:,1]"
   ]
  },
  {
   "cell_type": "code",
   "execution_count": 728,
   "metadata": {},
   "outputs": [],
   "source": [
    "from sklearn.ensemble import RandomForestClassifier"
   ]
  },
  {
   "cell_type": "code",
   "execution_count": 729,
   "metadata": {},
   "outputs": [],
   "source": [
    "from sklearn.model_selection import train_test_split"
   ]
  },
  {
   "cell_type": "code",
   "execution_count": 730,
   "metadata": {},
   "outputs": [],
   "source": [
    "X_train,X_test,Y_train,Y_test = train_test_split(ex,why,test_size=0.2,random_state=101)"
   ]
  },
  {
   "cell_type": "code",
   "execution_count": 767,
   "metadata": {},
   "outputs": [],
   "source": [
    "w = 1"
   ]
  },
  {
   "cell_type": "code",
   "execution_count": 768,
   "metadata": {},
   "outputs": [],
   "source": [
    "rf = RandomForestClassifier(class_weight={0:1,1:w})"
   ]
  },
  {
   "cell_type": "code",
   "execution_count": 769,
   "metadata": {},
   "outputs": [
    {
     "name": "stderr",
     "output_type": "stream",
     "text": [
      "/anaconda3/envs/tensorflow/lib/python3.6/site-packages/sklearn/ensemble/forest.py:248: FutureWarning: The default value of n_estimators will change from 10 in version 0.20 to 100 in 0.22.\n",
      "  \"10 in version 0.20 to 100 in 0.22.\", FutureWarning)\n"
     ]
    },
    {
     "data": {
      "text/plain": [
       "RandomForestClassifier(bootstrap=True, class_weight={0: 1, 1: 1},\n",
       "            criterion='gini', max_depth=None, max_features='auto',\n",
       "            max_leaf_nodes=None, min_impurity_decrease=0.0,\n",
       "            min_impurity_split=None, min_samples_leaf=1,\n",
       "            min_samples_split=2, min_weight_fraction_leaf=0.0,\n",
       "            n_estimators=10, n_jobs=None, oob_score=False,\n",
       "            random_state=None, verbose=0, warm_start=False)"
      ]
     },
     "execution_count": 769,
     "metadata": {},
     "output_type": "execute_result"
    }
   ],
   "source": [
    "rf.fit(ex,why)"
   ]
  },
  {
   "cell_type": "code",
   "execution_count": 773,
   "metadata": {},
   "outputs": [
    {
     "ename": "TypeError",
     "evalue": "'int' object is not subscriptable",
     "output_type": "error",
     "traceback": [
      "\u001b[0;31m---------------------------------------------------------------------------\u001b[0m",
      "\u001b[0;31mTypeError\u001b[0m                                 Traceback (most recent call last)",
      "\u001b[0;32m<ipython-input-773-4ab8924af8af>\u001b[0m in \u001b[0;36m<module>\u001b[0;34m()\u001b[0m\n\u001b[1;32m      1\u001b[0m \u001b[0mxt\u001b[0m \u001b[0;34m=\u001b[0m \u001b[0mpd\u001b[0m\u001b[0;34m.\u001b[0m\u001b[0mread_csv\u001b[0m\u001b[0;34m(\u001b[0m\u001b[0;34m'test.csv'\u001b[0m\u001b[0;34m)\u001b[0m\u001b[0;34m\u001b[0m\u001b[0;34m\u001b[0m\u001b[0m\n\u001b[1;32m      2\u001b[0m \u001b[0mval_frame_test\u001b[0m \u001b[0;34m=\u001b[0m \u001b[0mxt\u001b[0m\u001b[0;34m[\u001b[0m\u001b[0;34m[\u001b[0m\u001b[0;34m'DateTime'\u001b[0m\u001b[0;34m,\u001b[0m\u001b[0;34m'product'\u001b[0m\u001b[0;34m,\u001b[0m\u001b[0;34m'webpage_id'\u001b[0m\u001b[0;34m,\u001b[0m\u001b[0;34m'product_category_1'\u001b[0m\u001b[0;34m,\u001b[0m\u001b[0;34m'campaign_id'\u001b[0m\u001b[0;34m,\u001b[0m\u001b[0;34m'user_group_id'\u001b[0m\u001b[0;34m,\u001b[0m\u001b[0;34m'gender'\u001b[0m\u001b[0;34m,\u001b[0m\u001b[0;34m'age_level'\u001b[0m\u001b[0;34m,\u001b[0m\u001b[0;34m'user_depth'\u001b[0m\u001b[0;34m,\u001b[0m\u001b[0;34m'city_development_index'\u001b[0m\u001b[0;34m,\u001b[0m\u001b[0;34m'var_1'\u001b[0m\u001b[0;34m]\u001b[0m\u001b[0;34m]\u001b[0m\u001b[0;34m\u001b[0m\u001b[0;34m\u001b[0m\u001b[0m\n\u001b[0;32m----> 3\u001b[0;31m \u001b[0mval_frame_test\u001b[0m\u001b[0;34m[\u001b[0m\u001b[0;34m'DateTime'\u001b[0m\u001b[0;34m]\u001b[0m \u001b[0;34m=\u001b[0m \u001b[0mval_temp\u001b[0m\u001b[0;34m[\u001b[0m\u001b[0;34m'DateTime'\u001b[0m\u001b[0;34m]\u001b[0m\u001b[0;34m.\u001b[0m\u001b[0mapply\u001b[0m\u001b[0;34m(\u001b[0m\u001b[0;32mlambda\u001b[0m \u001b[0mx\u001b[0m\u001b[0;34m:\u001b[0m \u001b[0mstr\u001b[0m\u001b[0;34m(\u001b[0m\u001b[0mx\u001b[0m\u001b[0;34m[\u001b[0m\u001b[0;36m11\u001b[0m\u001b[0;34m:\u001b[0m\u001b[0;36m13\u001b[0m\u001b[0;34m]\u001b[0m\u001b[0;34m)\u001b[0m\u001b[0;34m)\u001b[0m\u001b[0;34m\u001b[0m\u001b[0;34m\u001b[0m\u001b[0m\n\u001b[0m\u001b[1;32m      4\u001b[0m \u001b[0mval_frame_test\u001b[0m \u001b[0;34m=\u001b[0m \u001b[0mval_frame_test\u001b[0m\u001b[0;34m.\u001b[0m\u001b[0mdropna\u001b[0m\u001b[0;34m(\u001b[0m\u001b[0msubset\u001b[0m\u001b[0;34m=\u001b[0m\u001b[0;34m[\u001b[0m\u001b[0;34m'user_group_id'\u001b[0m\u001b[0;34m,\u001b[0m\u001b[0;34m'user_depth'\u001b[0m\u001b[0;34m,\u001b[0m\u001b[0;34m'city_development_index'\u001b[0m\u001b[0;34m,\u001b[0m\u001b[0;34m'gender'\u001b[0m\u001b[0;34m,\u001b[0m\u001b[0;34m'age_level'\u001b[0m\u001b[0;34m]\u001b[0m\u001b[0;34m)\u001b[0m\u001b[0;34m\u001b[0m\u001b[0;34m\u001b[0m\u001b[0m\n",
      "\u001b[0;32m/anaconda3/envs/tensorflow/lib/python3.6/site-packages/pandas/core/series.py\u001b[0m in \u001b[0;36mapply\u001b[0;34m(self, func, convert_dtype, args, **kwds)\u001b[0m\n\u001b[1;32m   3190\u001b[0m             \u001b[0;32melse\u001b[0m\u001b[0;34m:\u001b[0m\u001b[0;34m\u001b[0m\u001b[0;34m\u001b[0m\u001b[0m\n\u001b[1;32m   3191\u001b[0m                 \u001b[0mvalues\u001b[0m \u001b[0;34m=\u001b[0m \u001b[0mself\u001b[0m\u001b[0;34m.\u001b[0m\u001b[0mastype\u001b[0m\u001b[0;34m(\u001b[0m\u001b[0mobject\u001b[0m\u001b[0;34m)\u001b[0m\u001b[0;34m.\u001b[0m\u001b[0mvalues\u001b[0m\u001b[0;34m\u001b[0m\u001b[0;34m\u001b[0m\u001b[0m\n\u001b[0;32m-> 3192\u001b[0;31m                 \u001b[0mmapped\u001b[0m \u001b[0;34m=\u001b[0m \u001b[0mlib\u001b[0m\u001b[0;34m.\u001b[0m\u001b[0mmap_infer\u001b[0m\u001b[0;34m(\u001b[0m\u001b[0mvalues\u001b[0m\u001b[0;34m,\u001b[0m \u001b[0mf\u001b[0m\u001b[0;34m,\u001b[0m \u001b[0mconvert\u001b[0m\u001b[0;34m=\u001b[0m\u001b[0mconvert_dtype\u001b[0m\u001b[0;34m)\u001b[0m\u001b[0;34m\u001b[0m\u001b[0;34m\u001b[0m\u001b[0m\n\u001b[0m\u001b[1;32m   3193\u001b[0m \u001b[0;34m\u001b[0m\u001b[0m\n\u001b[1;32m   3194\u001b[0m         \u001b[0;32mif\u001b[0m \u001b[0mlen\u001b[0m\u001b[0;34m(\u001b[0m\u001b[0mmapped\u001b[0m\u001b[0;34m)\u001b[0m \u001b[0;32mand\u001b[0m \u001b[0misinstance\u001b[0m\u001b[0;34m(\u001b[0m\u001b[0mmapped\u001b[0m\u001b[0;34m[\u001b[0m\u001b[0;36m0\u001b[0m\u001b[0;34m]\u001b[0m\u001b[0;34m,\u001b[0m \u001b[0mSeries\u001b[0m\u001b[0;34m)\u001b[0m\u001b[0;34m:\u001b[0m\u001b[0;34m\u001b[0m\u001b[0;34m\u001b[0m\u001b[0m\n",
      "\u001b[0;32mpandas/_libs/src/inference.pyx\u001b[0m in \u001b[0;36mpandas._libs.lib.map_infer\u001b[0;34m()\u001b[0m\n",
      "\u001b[0;32m<ipython-input-773-4ab8924af8af>\u001b[0m in \u001b[0;36m<lambda>\u001b[0;34m(x)\u001b[0m\n\u001b[1;32m      1\u001b[0m \u001b[0mxt\u001b[0m \u001b[0;34m=\u001b[0m \u001b[0mpd\u001b[0m\u001b[0;34m.\u001b[0m\u001b[0mread_csv\u001b[0m\u001b[0;34m(\u001b[0m\u001b[0;34m'test.csv'\u001b[0m\u001b[0;34m)\u001b[0m\u001b[0;34m\u001b[0m\u001b[0;34m\u001b[0m\u001b[0m\n\u001b[1;32m      2\u001b[0m \u001b[0mval_frame_test\u001b[0m \u001b[0;34m=\u001b[0m \u001b[0mxt\u001b[0m\u001b[0;34m[\u001b[0m\u001b[0;34m[\u001b[0m\u001b[0;34m'DateTime'\u001b[0m\u001b[0;34m,\u001b[0m\u001b[0;34m'product'\u001b[0m\u001b[0;34m,\u001b[0m\u001b[0;34m'webpage_id'\u001b[0m\u001b[0;34m,\u001b[0m\u001b[0;34m'product_category_1'\u001b[0m\u001b[0;34m,\u001b[0m\u001b[0;34m'campaign_id'\u001b[0m\u001b[0;34m,\u001b[0m\u001b[0;34m'user_group_id'\u001b[0m\u001b[0;34m,\u001b[0m\u001b[0;34m'gender'\u001b[0m\u001b[0;34m,\u001b[0m\u001b[0;34m'age_level'\u001b[0m\u001b[0;34m,\u001b[0m\u001b[0;34m'user_depth'\u001b[0m\u001b[0;34m,\u001b[0m\u001b[0;34m'city_development_index'\u001b[0m\u001b[0;34m,\u001b[0m\u001b[0;34m'var_1'\u001b[0m\u001b[0;34m]\u001b[0m\u001b[0;34m]\u001b[0m\u001b[0;34m\u001b[0m\u001b[0;34m\u001b[0m\u001b[0m\n\u001b[0;32m----> 3\u001b[0;31m \u001b[0mval_frame_test\u001b[0m\u001b[0;34m[\u001b[0m\u001b[0;34m'DateTime'\u001b[0m\u001b[0;34m]\u001b[0m \u001b[0;34m=\u001b[0m \u001b[0mval_temp\u001b[0m\u001b[0;34m[\u001b[0m\u001b[0;34m'DateTime'\u001b[0m\u001b[0;34m]\u001b[0m\u001b[0;34m.\u001b[0m\u001b[0mapply\u001b[0m\u001b[0;34m(\u001b[0m\u001b[0;32mlambda\u001b[0m \u001b[0mx\u001b[0m\u001b[0;34m:\u001b[0m \u001b[0mstr\u001b[0m\u001b[0;34m(\u001b[0m\u001b[0mx\u001b[0m\u001b[0;34m[\u001b[0m\u001b[0;36m11\u001b[0m\u001b[0;34m:\u001b[0m\u001b[0;36m13\u001b[0m\u001b[0;34m]\u001b[0m\u001b[0;34m)\u001b[0m\u001b[0;34m)\u001b[0m\u001b[0;34m\u001b[0m\u001b[0;34m\u001b[0m\u001b[0m\n\u001b[0m\u001b[1;32m      4\u001b[0m \u001b[0mval_frame_test\u001b[0m \u001b[0;34m=\u001b[0m \u001b[0mval_frame_test\u001b[0m\u001b[0;34m.\u001b[0m\u001b[0mdropna\u001b[0m\u001b[0;34m(\u001b[0m\u001b[0msubset\u001b[0m\u001b[0;34m=\u001b[0m\u001b[0;34m[\u001b[0m\u001b[0;34m'user_group_id'\u001b[0m\u001b[0;34m,\u001b[0m\u001b[0;34m'user_depth'\u001b[0m\u001b[0;34m,\u001b[0m\u001b[0;34m'city_development_index'\u001b[0m\u001b[0;34m,\u001b[0m\u001b[0;34m'gender'\u001b[0m\u001b[0;34m,\u001b[0m\u001b[0;34m'age_level'\u001b[0m\u001b[0;34m]\u001b[0m\u001b[0;34m)\u001b[0m\u001b[0;34m\u001b[0m\u001b[0;34m\u001b[0m\u001b[0m\n",
      "\u001b[0;31mTypeError\u001b[0m: 'int' object is not subscriptable"
     ]
    }
   ],
   "source": [
    "xt = pd.read_csv('test.csv')\n",
    "val_frame_test = xt[['DateTime','product','webpage_id','product_category_1','campaign_id','user_group_id','gender','age_level','user_depth','city_development_index','var_1']]\n",
    "val_frame_test['DateTime'] = val_temp['DateTime'].apply(lambda x: str(x[11:13]))\n",
    "val_frame_test = val_frame_test.dropna(subset=['user_group_id','user_depth','city_development_index','gender','age_level'])"
   ]
  },
  {
   "cell_type": "code",
   "execution_count": 764,
   "metadata": {},
   "outputs": [],
   "source": [
    "from sklearn.metrics import roc_auc_score"
   ]
  },
  {
   "cell_type": "code",
   "execution_count": 765,
   "metadata": {},
   "outputs": [],
   "source": [
    "y_pred = rf.predict(X_test) "
   ]
  },
  {
   "cell_type": "code",
   "execution_count": 766,
   "metadata": {},
   "outputs": [
    {
     "name": "stdout",
     "output_type": "stream",
     "text": [
      "0.5456623476511655\n"
     ]
    },
    {
     "data": {
      "text/plain": [
       "array([0., 0., 0., ..., 0., 0., 0.])"
      ]
     },
     "execution_count": 766,
     "metadata": {},
     "output_type": "execute_result"
    }
   ],
   "source": [
    "print(roc_auc_score(y_pred,Y_test))\n",
    "y_pred"
   ]
  },
  {
   "cell_type": "code",
   "execution_count": null,
   "metadata": {},
   "outputs": [],
   "source": []
  },
  {
   "cell_type": "code",
   "execution_count": null,
   "metadata": {},
   "outputs": [],
   "source": []
  },
  {
   "cell_type": "code",
   "execution_count": null,
   "metadata": {},
   "outputs": [],
   "source": []
  },
  {
   "cell_type": "code",
   "execution_count": null,
   "metadata": {},
   "outputs": [],
   "source": []
  }
 ],
 "metadata": {
  "kernelspec": {
   "display_name": "Python [conda env:tensorflow]",
   "language": "python",
   "name": "conda-env-tensorflow-py"
  },
  "language_info": {
   "codemirror_mode": {
    "name": "ipython",
    "version": 3
   },
   "file_extension": ".py",
   "mimetype": "text/x-python",
   "name": "python",
   "nbconvert_exporter": "python",
   "pygments_lexer": "ipython3",
   "version": "3.6.7"
  }
 },
 "nbformat": 4,
 "nbformat_minor": 2
}
